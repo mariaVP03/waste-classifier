{
 "cells": [
  {
   "cell_type": "code",
   "execution_count": 1,
   "metadata": {},
   "outputs": [
    {
     "name": "stdout",
     "output_type": "stream",
     "text": [
      "Dataset split complete. Train and test folders are ready.\n"
     ]
    }
   ],
   "source": [
    "import os\n",
    "import shutil\n",
    "import random\n",
    "\n",
    "# Adjustable paths\n",
    "source_folder = \"garbage_classification_raw\"\n",
    "train_folder = \"garbage_classification_train_test/train_set\"\n",
    "test_folder = \"garbage_classification_train_test/test_set\"\n",
    "\n",
    "# Adjustable split ratio\n",
    "split_ratio = 0.8\n",
    "\n",
    "# Create train and test folders\n",
    "for folder in [train_folder, test_folder]:\n",
    "    if not os.path.exists(folder):\n",
    "        os.makedirs(folder)\n",
    "\n",
    "# Loop through each category\n",
    "for category in os.listdir(source_folder):\n",
    "    category_path = os.path.join(source_folder, category)\n",
    "    if os.path.isdir(category_path):\n",
    "        images = os.listdir(category_path)\n",
    "        random.shuffle(images)\n",
    "\n",
    "        split_point = int(len(images) * split_ratio)\n",
    "        train_images = images[:split_point]\n",
    "        test_images = images[split_point:]\n",
    "\n",
    "        # Create category folders in train and test directories\n",
    "        train_category_path = os.path.join(train_folder, category)\n",
    "        test_category_path = os.path.join(test_folder, category)\n",
    "        os.makedirs(train_category_path, exist_ok=True)\n",
    "        os.makedirs(test_category_path, exist_ok=True)\n",
    "\n",
    "        # Copy files to train folder\n",
    "        for img in train_images:\n",
    "            src = os.path.join(category_path, img)\n",
    "            dst = os.path.join(train_category_path, img)\n",
    "            shutil.copy2(src, dst)\n",
    "\n",
    "        # Copy files to test folder\n",
    "        for img in test_images:\n",
    "            src = os.path.join(category_path, img)\n",
    "            dst = os.path.join(test_category_path, img)\n",
    "            shutil.copy2(src, dst)\n",
    "\n",
    "print(\"Dataset split complete. Train and test folders are ready.\")"
   ]
  },
  {
   "cell_type": "code",
   "execution_count": 3,
   "metadata": {},
   "outputs": [
    {
     "name": "stdout",
     "output_type": "stream",
     "text": [
      "\n",
      "Verifying folder: garbage_classification_train_test/train_set\n",
      "✅ Category 'paper': 475 images\n",
      "✅ Category 'metal': 328 images\n",
      "✅ Category 'cardboard': 322 images\n",
      "✅ Category 'trash': 109 images\n",
      "✅ Category 'glass': 400 images\n",
      "✅ Category 'plastic': 385 images\n",
      "✅ Total images in garbage_classification_train_test/train_set: 2019\n",
      "\n",
      "Verifying folder: garbage_classification_train_test/test_set\n",
      "✅ Category 'paper': 119 images\n",
      "✅ Category 'metal': 82 images\n",
      "✅ Category 'cardboard': 81 images\n",
      "✅ Category 'trash': 28 images\n",
      "✅ Category 'glass': 101 images\n",
      "✅ Category 'plastic': 97 images\n",
      "✅ Total images in garbage_classification_train_test/test_set: 508\n"
     ]
    }
   ],
   "source": [
    "import os\n",
    "\n",
    "def verify_split(folder):\n",
    "    print(f\"\\nVerifying folder: {folder}\")\n",
    "    if not os.path.exists(folder):\n",
    "        print(f\"❌ Folder '{folder}' does not exist.\")\n",
    "        return\n",
    "\n",
    "    categories = [d for d in os.listdir(folder) if os.path.isdir(os.path.join(folder, d))]\n",
    "    if not categories:\n",
    "        print(f\"❌ No category folders found in '{folder}'.\")\n",
    "        return\n",
    "\n",
    "    total_images = 0\n",
    "    for category in categories:\n",
    "        category_path = os.path.join(folder, category)\n",
    "        images = [f for f in os.listdir(category_path) if os.path.isfile(os.path.join(category_path, f))]\n",
    "        print(f\"✅ Category '{category}': {len(images)} images\")\n",
    "        total_images += len(images)\n",
    "    print(f\"✅ Total images in {folder}: {total_images}\")\n",
    "\n",
    "verify_split(train_folder)\n",
    "verify_split(test_folder)"
   ]
  },
  {
   "cell_type": "code",
   "execution_count": 4,
   "metadata": {},
   "outputs": [
    {
     "name": "stdout",
     "output_type": "stream",
     "text": [
      "✅ Total images in train set: 2019\n",
      "✅ Total images in test set: 508\n",
      "✅ No duplicate images found between train and test sets.\n"
     ]
    }
   ],
   "source": [
    "train_folder = \"garbage_classification_train_test/train_set\"\n",
    "test_folder = \"garbage_classification_train_test/test_set\"\n",
    "\n",
    "def get_all_relative_paths(folder):\n",
    "    paths = set()\n",
    "    for category in os.listdir(folder):\n",
    "        category_path = os.path.join(folder, category)\n",
    "        if os.path.isdir(category_path):\n",
    "            for img in os.listdir(category_path):\n",
    "                relative_path = os.path.join(category, img)\n",
    "                paths.add(relative_path)\n",
    "    return paths\n",
    "\n",
    "train_paths = get_all_relative_paths(train_folder)\n",
    "test_paths = get_all_relative_paths(test_folder)\n",
    "\n",
    "print(f\"✅ Total images in train set: {len(train_paths)}\")\n",
    "print(f\"✅ Total images in test set: {len(test_paths)}\")\n",
    "\n",
    "# Check for duplicates\n",
    "duplicates = train_paths.intersection(test_paths)\n",
    "\n",
    "if duplicates:\n",
    "    print(f\"❌ Found {len(duplicates)} duplicate images in both train and test sets:\")\n",
    "    for dup in list(duplicates)[:10]:  # show first 10 only\n",
    "        print(f\"- {dup}\")\n",
    "else:\n",
    "    print(\"✅ No duplicate images found between train and test sets.\")"
   ]
  },
  {
   "cell_type": "code",
   "execution_count": 5,
   "metadata": {},
   "outputs": [
    {
     "name": "stdout",
     "output_type": "stream",
     "text": [
      "✅ Total images in source: 2527\n",
      "✅ Total images in train: 2019\n",
      "✅ Total images in test: 508\n",
      "✅ The total number of images in train and test matches the original source data.\n"
     ]
    }
   ],
   "source": [
    "def count_images(folder):\n",
    "    total = 0\n",
    "    for category in os.listdir(folder):\n",
    "        category_path = os.path.join(folder, category)\n",
    "        if os.path.isdir(category_path):\n",
    "            images = [f for f in os.listdir(category_path) if os.path.isfile(os.path.join(category_path, f))]\n",
    "            total += len(images)\n",
    "    return total\n",
    "\n",
    "source_count = count_images(source_folder)\n",
    "train_count = count_images(train_folder)\n",
    "test_count = count_images(test_folder)\n",
    "\n",
    "print(f\"✅ Total images in source: {source_count}\")\n",
    "print(f\"✅ Total images in train: {train_count}\")\n",
    "print(f\"✅ Total images in test: {test_count}\")\n",
    "\n",
    "if source_count == train_count + test_count:\n",
    "    print(\"✅ The total number of images in train and test matches the original source data.\")\n",
    "else:\n",
    "    print(\"❌ Mismatch detected!\")\n",
    "    print(f\"Total in train + test: {train_count + test_count}\")\n",
    "    print(f\"Difference: {source_count - (train_count + test_count)}\")"
   ]
  }
 ],
 "metadata": {
  "kernelspec": {
   "display_name": "base",
   "language": "python",
   "name": "python3"
  },
  "language_info": {
   "codemirror_mode": {
    "name": "ipython",
    "version": 3
   },
   "file_extension": ".py",
   "mimetype": "text/x-python",
   "name": "python",
   "nbconvert_exporter": "python",
   "pygments_lexer": "ipython3",
   "version": "3.12.7"
  }
 },
 "nbformat": 4,
 "nbformat_minor": 2
}
